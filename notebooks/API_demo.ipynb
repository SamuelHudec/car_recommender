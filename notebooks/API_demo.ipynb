{
 "cells": [
  {
   "cell_type": "code",
   "execution_count": null,
   "id": "initial_id",
   "metadata": {
    "collapsed": true
   },
   "outputs": [],
   "source": [
    "import pandas as pd\n",
    "import requests\n",
    "import warnings\n",
    "\n",
    "# Filter out FutureWarnings\n",
    "warnings.filterwarnings(action='ignore', category=FutureWarning)\n",
    "\n",
    "API_URL = 'http://127.0.0.1:5000/table'\n",
    "TABLE_NAME = \"test_data\"\n",
    "TABLE_ENDPOINT = f\"{API_URL}/{TABLE_NAME}\""
   ]
  },
  {
   "cell_type": "code",
   "execution_count": null,
   "outputs": [],
   "source": [
    "# setting up data\n",
    "df = pd.read_csv(\"/Users/samuel.hudec/play_ground/car_recommender/data/car_details_v4.csv\")\n",
    "first_df = df.loc[:300]\n",
    "second_df = df.loc[301:600]\n",
    "cross_df = df.loc[400:500]\n",
    "over_df = second_df\n",
    "over_df[\"yes\"] = 0\n",
    "under_df = second_df[['Make', 'Model', 'Price']]"
   ],
   "metadata": {
    "collapsed": false
   },
   "id": "5de0912b6c7aa92e"
  },
  {
   "cell_type": "markdown",
   "source": [
    "# Write new table"
   ],
   "metadata": {
    "collapsed": false
   },
   "id": "2d65a60185419b32"
  },
  {
   "cell_type": "code",
   "execution_count": null,
   "outputs": [],
   "source": [
    "data_string = first_df.to_json(index=False)\n",
    "response = requests.put(TABLE_ENDPOINT, json=data_string)\n",
    "response.json()"
   ],
   "metadata": {
    "collapsed": false
   },
   "id": "2f02c8041f0f086"
  },
  {
   "cell_type": "markdown",
   "source": [
    "# Get table"
   ],
   "metadata": {
    "collapsed": false
   },
   "id": "da06d13f8711674d"
  },
  {
   "cell_type": "code",
   "execution_count": null,
   "outputs": [],
   "source": [
    "response = requests.get(TABLE_ENDPOINT)\n",
    "\n",
    "data = response.json()\n",
    "df_get = pd.DataFrame(data)\n",
    "print(df_get.shape)"
   ],
   "metadata": {
    "collapsed": false
   },
   "id": "69d837f66a20e2c9"
  },
  {
   "cell_type": "markdown",
   "source": [
    "# Add records"
   ],
   "metadata": {
    "collapsed": false
   },
   "id": "81c99c5572eee86"
  },
  {
   "cell_type": "code",
   "execution_count": null,
   "outputs": [],
   "source": [
    "# write ba complement\n",
    "data = second_df.to_json(index=False)\n",
    "response = requests.put(TABLE_ENDPOINT, json=data)\n",
    "response.json()"
   ],
   "metadata": {
    "collapsed": false
   },
   "id": "3b8eaf46ca48859d"
  },
  {
   "cell_type": "code",
   "execution_count": null,
   "outputs": [],
   "source": [
    "# write a table with more columns\n",
    "data = over_df.to_json(index=False)\n",
    "response = requests.put(TABLE_ENDPOINT, json=data)\n",
    "response.json()"
   ],
   "metadata": {
    "collapsed": false
   },
   "id": "15bd4eb627850ef8"
  },
  {
   "cell_type": "code",
   "execution_count": null,
   "outputs": [],
   "source": [
    "# write a table with duplicate tables\n",
    "response = requests.get(TABLE_ENDPOINT)\n",
    "data = response.json()\n",
    "df_get = pd.DataFrame(data)\n",
    "print(f\"Table shape before add {df_get.shape}\")\n",
    "\n",
    "print(f\"Table shape to add {cross_df.shape}\")\n",
    "data_string = cross_df.to_csv(index=False)\n",
    "response = requests.put(TABLE_ENDPOINT, data=data_string)\n",
    "print(response.json())\n",
    "\n",
    "response = requests.get(TABLE_ENDPOINT)\n",
    "data = response.json()\n",
    "df_get = pd.DataFrame(data)\n",
    "print(f\"Table shape after add {df_get.shape}\")"
   ],
   "metadata": {
    "collapsed": false
   },
   "id": "6e2f79164f9d8a16"
  },
  {
   "cell_type": "markdown",
   "source": [
    "# Delete table"
   ],
   "metadata": {
    "collapsed": false
   },
   "id": "166eafc17b547e88"
  },
  {
   "cell_type": "code",
   "execution_count": null,
   "outputs": [],
   "source": [
    "response = requests.delete(TABLE_ENDPOINT)\n",
    "response.json()"
   ],
   "metadata": {
    "collapsed": false
   },
   "id": "8281f2befff42342"
  },
  {
   "cell_type": "code",
   "execution_count": null,
   "outputs": [],
   "source": [],
   "metadata": {
    "collapsed": false
   },
   "id": "3687beabbd20245e"
  }
 ],
 "metadata": {
  "kernelspec": {
   "display_name": "Python 3",
   "language": "python",
   "name": "python3"
  },
  "language_info": {
   "codemirror_mode": {
    "name": "ipython",
    "version": 2
   },
   "file_extension": ".py",
   "mimetype": "text/x-python",
   "name": "python",
   "nbconvert_exporter": "python",
   "pygments_lexer": "ipython2",
   "version": "2.7.6"
  }
 },
 "nbformat": 4,
 "nbformat_minor": 5
}
