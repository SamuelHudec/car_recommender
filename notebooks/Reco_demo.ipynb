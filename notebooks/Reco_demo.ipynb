{
 "cells": [
  {
   "cell_type": "code",
   "execution_count": 1,
   "id": "initial_id",
   "metadata": {
    "collapsed": true,
    "ExecuteTime": {
     "end_time": "2023-11-10T09:13:58.557903Z",
     "start_time": "2023-11-10T09:13:58.008471Z"
    }
   },
   "outputs": [],
   "source": [
    "import os\n",
    "import pandas as pd"
   ]
  },
  {
   "cell_type": "code",
   "execution_count": 2,
   "outputs": [
    {
     "data": {
      "text/plain": "(20590, 4)"
     },
     "execution_count": 2,
     "metadata": {},
     "output_type": "execute_result"
    }
   ],
   "source": [
    "script_dir = os.path.dirname(os.path.abspath(\"recommendations.csv\"))\n",
    "parent_dir = os.path.dirname(script_dir)\n",
    "df = pd.read_csv(f\"{parent_dir}/data/recommendations.csv\")\n",
    "df.shape"
   ],
   "metadata": {
    "collapsed": false,
    "ExecuteTime": {
     "end_time": "2023-11-10T09:13:58.598190Z",
     "start_time": "2023-11-10T09:13:58.562315Z"
    }
   },
   "id": "a90a3bf812e7243e"
  },
  {
   "cell_type": "code",
   "execution_count": 3,
   "outputs": [
    {
     "data": {
      "text/plain": "                    item_id                reco_id  re_rank   Price\n6717   i6574833124390691493   i1497804697887974599        1  949000\n7256   i6574833124390691493   i4809401402820185199        2  850000\n16660  i6574833124390691493   i9043567884882244212        3  819999\n2652   i6574833124390691493  i-5676070307593980406        4  819999\n266    i6574833124390691493  i-7873862791927059228        5  795000\n7716   i6574833124390691493   i1526203935047533550        6  795000\n13720  i6574833124390691493  i-8922159415894041118        7  730000\n12738  i6574833124390691493   i7647588996448246963        8  695000\n2978   i6574833124390691493  i-6443183252981047098        9  655000\n6212   i6574833124390691493  i-2058188571775158837       10  628000",
      "text/html": "<div>\n<style scoped>\n    .dataframe tbody tr th:only-of-type {\n        vertical-align: middle;\n    }\n\n    .dataframe tbody tr th {\n        vertical-align: top;\n    }\n\n    .dataframe thead th {\n        text-align: right;\n    }\n</style>\n<table border=\"1\" class=\"dataframe\">\n  <thead>\n    <tr style=\"text-align: right;\">\n      <th></th>\n      <th>item_id</th>\n      <th>reco_id</th>\n      <th>re_rank</th>\n      <th>Price</th>\n    </tr>\n  </thead>\n  <tbody>\n    <tr>\n      <th>6717</th>\n      <td>i6574833124390691493</td>\n      <td>i1497804697887974599</td>\n      <td>1</td>\n      <td>949000</td>\n    </tr>\n    <tr>\n      <th>7256</th>\n      <td>i6574833124390691493</td>\n      <td>i4809401402820185199</td>\n      <td>2</td>\n      <td>850000</td>\n    </tr>\n    <tr>\n      <th>16660</th>\n      <td>i6574833124390691493</td>\n      <td>i9043567884882244212</td>\n      <td>3</td>\n      <td>819999</td>\n    </tr>\n    <tr>\n      <th>2652</th>\n      <td>i6574833124390691493</td>\n      <td>i-5676070307593980406</td>\n      <td>4</td>\n      <td>819999</td>\n    </tr>\n    <tr>\n      <th>266</th>\n      <td>i6574833124390691493</td>\n      <td>i-7873862791927059228</td>\n      <td>5</td>\n      <td>795000</td>\n    </tr>\n    <tr>\n      <th>7716</th>\n      <td>i6574833124390691493</td>\n      <td>i1526203935047533550</td>\n      <td>6</td>\n      <td>795000</td>\n    </tr>\n    <tr>\n      <th>13720</th>\n      <td>i6574833124390691493</td>\n      <td>i-8922159415894041118</td>\n      <td>7</td>\n      <td>730000</td>\n    </tr>\n    <tr>\n      <th>12738</th>\n      <td>i6574833124390691493</td>\n      <td>i7647588996448246963</td>\n      <td>8</td>\n      <td>695000</td>\n    </tr>\n    <tr>\n      <th>2978</th>\n      <td>i6574833124390691493</td>\n      <td>i-6443183252981047098</td>\n      <td>9</td>\n      <td>655000</td>\n    </tr>\n    <tr>\n      <th>6212</th>\n      <td>i6574833124390691493</td>\n      <td>i-2058188571775158837</td>\n      <td>10</td>\n      <td>628000</td>\n    </tr>\n  </tbody>\n</table>\n</div>"
     },
     "execution_count": 3,
     "metadata": {},
     "output_type": "execute_result"
    }
   ],
   "source": [
    "df.loc[df.item_id == \"i6574833124390691493\"].sort_values(\"re_rank\")\n",
    "# we can see how items are sorted by price and if price also in case of same price."
   ],
   "metadata": {
    "collapsed": false,
    "ExecuteTime": {
     "end_time": "2023-11-10T09:13:58.637463Z",
     "start_time": "2023-11-10T09:13:58.601765Z"
    }
   },
   "id": "dfe818c292d412e6"
  }
 ],
 "metadata": {
  "kernelspec": {
   "display_name": "Python 3",
   "language": "python",
   "name": "python3"
  },
  "language_info": {
   "codemirror_mode": {
    "name": "ipython",
    "version": 2
   },
   "file_extension": ".py",
   "mimetype": "text/x-python",
   "name": "python",
   "nbconvert_exporter": "python",
   "pygments_lexer": "ipython2",
   "version": "2.7.6"
  }
 },
 "nbformat": 4,
 "nbformat_minor": 5
}
